{
 "cells": [
  {
   "cell_type": "markdown",
   "metadata": {},
   "source": [
    "# Extracting Annoted csvs\n",
    "### The download for this dataset contained extremely large data files, but a sliding window of 30 events with annotations of target were also engineered. I would like to get those annotated csvs and a png of each of the house layouts."
   ]
  },
  {
   "cell_type": "code",
   "execution_count": 2,
   "metadata": {},
   "outputs": [],
   "source": [
    "import zipfile\n",
    "import numpy as np"
   ]
  },
  {
   "cell_type": "code",
   "execution_count": 2,
   "metadata": {},
   "outputs": [
    {
     "name": "stdout",
     "output_type": "stream",
     "text": [
      "/home/dyllanjr/Downloads\n"
     ]
    }
   ],
   "source": [
    "%cd '/home/dyllanjr/Downloads/'"
   ]
  },
  {
   "cell_type": "code",
   "execution_count": 3,
   "metadata": {},
   "outputs": [],
   "source": [
    "nums = np.arange(101, 131)\n",
    "paths = []\n",
    "for num in nums:\n",
    "    paths.append('csh{}/csh{}.sensor_map.png'.format(num, num))\n",
    "    paths.append('csh{}/csh{}.ann.features.csv'.format(num, num))"
   ]
  },
  {
   "cell_type": "code",
   "execution_count": 5,
   "metadata": {},
   "outputs": [],
   "source": [
    "fh = open('casas-dataset.zip', 'rb')\n",
    "z = zipfile.ZipFile(fh)\n",
    "for name in z.namelist():\n",
    "    if name in paths:\n",
    "        outpath = '/home/dyllanjr/Desktop/home_ann_csvs'\n",
    "        z.extract(name, outpath)\n",
    "fh.close()"
   ]
  },
  {
   "cell_type": "code",
   "execution_count": 6,
   "metadata": {},
   "outputs": [
    {
     "data": {
      "text/plain": [
       "['csh101/csh101.sensor_map.png',\n",
       " 'csh101/csh101.ann.features.csv',\n",
       " 'csh102/csh102.sensor_map.png',\n",
       " 'csh102/csh102.ann.features.csv',\n",
       " 'csh103/csh103.sensor_map.png',\n",
       " 'csh103/csh103.ann.features.csv',\n",
       " 'csh104/csh104.sensor_map.png',\n",
       " 'csh104/csh104.ann.features.csv',\n",
       " 'csh105/csh105.sensor_map.png',\n",
       " 'csh105/csh105.ann.features.csv']"
      ]
     },
     "execution_count": 6,
     "metadata": {},
     "output_type": "execute_result"
    }
   ],
   "source": [
    "paths[:10]"
   ]
  },
  {
   "cell_type": "code",
   "execution_count": 4,
   "metadata": {},
   "outputs": [],
   "source": [
    "import os\n",
    "nums = np.arange(101, 131)\n",
    "csv_paths = ['csh{}/csh{}.ann.features.csv'.format(num, num) for num in nums]\n",
    "path = '/home/dyllanjr/Desktop/home_ann_csvs/'\n",
    "for csv in csv_paths:\n",
    "    os.system('echo {}'.format(path + csv))"
   ]
  },
  {
   "cell_type": "code",
   "execution_count": null,
   "metadata": {},
   "outputs": [],
   "source": []
  },
  {
   "cell_type": "code",
   "execution_count": null,
   "metadata": {},
   "outputs": [],
   "source": []
  },
  {
   "cell_type": "code",
   "execution_count": null,
   "metadata": {},
   "outputs": [],
   "source": []
  },
  {
   "cell_type": "code",
   "execution_count": null,
   "metadata": {},
   "outputs": [],
   "source": []
  }
 ],
 "metadata": {
  "kernelspec": {
   "display_name": "Python [conda env:metis] *",
   "language": "python",
   "name": "conda-env-metis-py"
  },
  "language_info": {
   "codemirror_mode": {
    "name": "ipython",
    "version": 3
   },
   "file_extension": ".py",
   "mimetype": "text/x-python",
   "name": "python",
   "nbconvert_exporter": "python",
   "pygments_lexer": "ipython3",
   "version": "3.8.3"
  }
 },
 "nbformat": 4,
 "nbformat_minor": 4
}
