{
 "cells": [
  {
   "cell_type": "code",
   "execution_count": null,
   "metadata": {},
   "outputs": [],
   "source": [
    "<option value=\"csh1\">Volvo</option>"
   ]
  },
  {
   "cell_type": "code",
   "execution_count": 5,
   "metadata": {},
   "outputs": [],
   "source": [
    "csvs = np.arange(101, 111)\n",
    "#unsampled csh's are 101, 105, 110\n",
    "del_csvs = np.array([101, 105, 110])\n",
    "csvs = np.setdiff1d(csvs, del_csvs)\n",
    "output = ''\n",
    "for csv in csvs:\n",
    "    output += '<option value=\"csh{}\">csh{}</option>\\n'.format(csv, csv)"
   ]
  },
  {
   "cell_type": "code",
   "execution_count": 6,
   "metadata": {},
   "outputs": [
    {
     "name": "stdout",
     "output_type": "stream",
     "text": [
      "<option value=\"csh102\">csh102</option>\n",
      "<option value=\"csh103\">csh103</option>\n",
      "<option value=\"csh104\">csh104</option>\n",
      "<option value=\"csh106\">csh106</option>\n",
      "<option value=\"csh107\">csh107</option>\n",
      "<option value=\"csh108\">csh108</option>\n",
      "<option value=\"csh109\">csh109</option>\n",
      "\n"
     ]
    }
   ],
   "source": [
    "print(output)"
   ]
  },
  {
   "cell_type": "code",
   "execution_count": 44,
   "metadata": {},
   "outputs": [],
   "source": [
    "import sqlalchemy\n",
    "from flask_migrate import Migrate\n",
    "import os\n",
    "from time import sleep\n",
    "import json\n",
    "from flask import jsonify\n",
    "\n",
    "username = 'postgres'  # DB username\n",
    "password = ''  # DB password\n",
    "host = 'localhost'  # Public IP address for your instance\n",
    "port = '5432'\n",
    "database = 'class_prediction_api'  # Name of database ('postgres' by default)\n",
    "db_uri = 'postgresql+psycopg2://{}:{}@{}:{}/{}'.format(\n",
    "    username, password, host, port, database)\n",
    "engine = sqlalchemy.create_engine(db_uri)\n",
    "conn = engine.connect()\n",
    "cursor = conn.execute('SELECT * FROM csh102 LIMIT 1 OFFSET 1')"
   ]
  },
  {
   "cell_type": "code",
   "execution_count": 45,
   "metadata": {},
   "outputs": [],
   "source": [
    "result=cursor.fetchall()"
   ]
  },
  {
   "cell_type": "code",
   "execution_count": 46,
   "metadata": {},
   "outputs": [
    {
     "data": {
      "text/plain": [
       "(100101, 'Clean', 'Clean', '[4, 6, 7]')"
      ]
     },
     "execution_count": 46,
     "metadata": {},
     "output_type": "execute_result"
    }
   ],
   "source": [
    "result[0]"
   ]
  },
  {
   "cell_type": "code",
   "execution_count": 47,
   "metadata": {},
   "outputs": [],
   "source": [
    "cursor = conn.execute('SELECT * FROM csh102')\n",
    "result = cursor.fetchall()"
   ]
  },
  {
   "cell_type": "code",
   "execution_count": 30,
   "metadata": {},
   "outputs": [],
   "source": [
    "result=cursor.fetchall()"
   ]
  },
  {
   "cell_type": "code",
   "execution_count": 58,
   "metadata": {},
   "outputs": [],
   "source": [
    "outfile = json.dumps([dict(r) for r in result])"
   ]
  },
  {
   "cell_type": "code",
   "execution_count": null,
   "metadata": {},
   "outputs": [],
   "source": []
  },
  {
   "cell_type": "code",
   "execution_count": 60,
   "metadata": {},
   "outputs": [
    {
     "name": "stdout",
     "output_type": "stream",
     "text": [
      "/home/dyllanjr/Documents/Classification-M2/notebooks/jsons\n"
     ]
    }
   ],
   "source": [
    "%cd '/home/dyllanjr/Documents/Classification-M2/notebooks/jsons'"
   ]
  },
  {
   "cell_type": "code",
   "execution_count": 63,
   "metadata": {},
   "outputs": [],
   "source": [
    "def get_jsons():\n",
    "    csvs = np.arange(101, 111)\n",
    "    #unsampled csh's are 101, 105, 110\n",
    "    del_csvs = np.array([101, 105, 110])\n",
    "    csvs = np.setdiff1d(csvs, del_csvs)\n",
    "    for csv in csvs:\n",
    "        cursor = conn.execute(f'SELECT * FROM csh{csv}')\n",
    "        result = cursor.fetchall()\n",
    "        data = json.dumps([dict(r) for r in result])\n",
    "        with open(f'{csv}.json', 'w') as outfile:\n",
    "            json.dump(data, outfile)"
   ]
  },
  {
   "cell_type": "code",
   "execution_count": 64,
   "metadata": {},
   "outputs": [],
   "source": [
    "get_jsons()\n"
   ]
  },
  {
   "cell_type": "code",
   "execution_count": 86,
   "metadata": {},
   "outputs": [],
   "source": [
    "import pandas as pd\n",
    "def get_csvs():\n",
    "    csvs = np.arange(101, 111)\n",
    "    #unsampled csh's are 101, 105, 110\n",
    "    del_csvs = np.array([101, 105, 110])\n",
    "    csvs = np.setdiff1d(csvs, del_csvs)\n",
    "    for csv in csvs:\n",
    "        df = pd.read_sql_table(f'csh{csv}', conn)\n",
    "        df.to_csv(f'{csv}.csv')"
   ]
  },
  {
   "cell_type": "code",
   "execution_count": 87,
   "metadata": {},
   "outputs": [],
   "source": [
    "get_csvs()"
   ]
  },
  {
   "cell_type": "code",
   "execution_count": 89,
   "metadata": {},
   "outputs": [
    {
     "name": "stdout",
     "output_type": "stream",
     "text": [
      "/home/dyllanjr/Desktop/csvs\n"
     ]
    }
   ],
   "source": [
    "%cd /home/dyllanjr/Desktop/csvs"
   ]
  },
  {
   "cell_type": "code",
   "execution_count": 90,
   "metadata": {},
   "outputs": [],
   "source": [
    "get_csvs()"
   ]
  },
  {
   "cell_type": "code",
   "execution_count": null,
   "metadata": {},
   "outputs": [],
   "source": []
  }
 ],
 "metadata": {
  "kernelspec": {
   "display_name": "Python 3",
   "language": "python",
   "name": "python3"
  },
  "language_info": {
   "codemirror_mode": {
    "name": "ipython",
    "version": 3
   },
   "file_extension": ".py",
   "mimetype": "text/x-python",
   "name": "python",
   "nbconvert_exporter": "python",
   "pygments_lexer": "ipython3",
   "version": "3.8.3"
  },
  "varInspector": {
   "cols": {
    "lenName": 16,
    "lenType": 16,
    "lenVar": 40
   },
   "kernels_config": {
    "python": {
     "delete_cmd_postfix": "",
     "delete_cmd_prefix": "del ",
     "library": "var_list.py",
     "varRefreshCmd": "print(var_dic_list())"
    },
    "r": {
     "delete_cmd_postfix": ") ",
     "delete_cmd_prefix": "rm(",
     "library": "var_list.r",
     "varRefreshCmd": "cat(var_dic_list()) "
    }
   },
   "position": {
    "height": "144.517px",
    "left": "368px",
    "right": "20px",
    "top": "578px",
    "width": "350px"
   },
   "types_to_exclude": [
    "module",
    "function",
    "builtin_function_or_method",
    "instance",
    "_Feature"
   ],
   "window_display": false
  }
 },
 "nbformat": 4,
 "nbformat_minor": 4
}
