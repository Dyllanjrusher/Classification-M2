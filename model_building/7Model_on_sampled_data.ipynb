{
 "cells": [
  {
   "cell_type": "code",
   "execution_count": 15,
   "metadata": {},
   "outputs": [],
   "source": [
    "import pickle\n",
    "from sklearn.ensemble import RandomForestClassifier, GradientBoostingClassifier"
   ]
  },
  {
   "cell_type": "code",
   "execution_count": 2,
   "metadata": {},
   "outputs": [],
   "source": [
    "forest = RandomForestClassifier(n_jobs=-1)"
   ]
  },
  {
   "cell_type": "code",
   "execution_count": 3,
   "metadata": {},
   "outputs": [
    {
     "name": "stdout",
     "output_type": "stream",
     "text": [
      "/home/dyllanjr/Documents/Classification-M2/data/processed\n"
     ]
    }
   ],
   "source": [
    "%cd /home/dyllanjr/Documents/Classification-M2/data/processed"
   ]
  },
  {
   "cell_type": "code",
   "execution_count": 4,
   "metadata": {},
   "outputs": [
    {
     "name": "stdout",
     "output_type": "stream",
     "text": [
      "csh101.csv  csh104.csv  csh107.csv  csh110.csv\r\n",
      "csh102.csv  csh105.csv  csh108.csv  oversampled_house_data_first_100k.pkl\r\n",
      "csh103.csv  csh106.csv  csh109.csv  sampled_house_data_first_100k.pkl\r\n"
     ]
    }
   ],
   "source": [
    "%ls"
   ]
  },
  {
   "cell_type": "code",
   "execution_count": 5,
   "metadata": {},
   "outputs": [],
   "source": [
    "data = pickle.load(open(\"oversampled_house_data_first_100k.pkl\", 'rb'))\n",
    "X = data[0]\n",
    "y = data[1]\n",
    "del data"
   ]
  },
  {
   "cell_type": "code",
   "execution_count": 6,
   "metadata": {},
   "outputs": [
    {
     "data": {
      "text/plain": [
       "RandomForestClassifier(n_jobs=-1)"
      ]
     },
     "execution_count": 6,
     "metadata": {},
     "output_type": "execute_result"
    }
   ],
   "source": [
    "forest.fit(X, y)"
   ]
  },
  {
   "cell_type": "code",
   "execution_count": 7,
   "metadata": {},
   "outputs": [
    {
     "name": "stdout",
     "output_type": "stream",
     "text": [
      "Variable                     Type                          Data/Info\n",
      "--------------------------------------------------------------------\n",
      "GradientBoostingClassifier   ABCMeta                       <class 'sklearn.ensemble.<...>dientBoostingClassifier'>\n",
      "NamespaceMagics              MetaHasTraits                 <class 'IPython.core.magi<...>mespace.NamespaceMagics'>\n",
      "RandomForestClassifier       ABCMeta                       <class 'sklearn.ensemble.<...>.RandomForestClassifier'>\n",
      "X                            DataFrame                              lastSensorEventH<...>459588 rows x 36 columns]\n",
      "forest                       RandomForestClassifier        RandomForestClassifier(n_jobs=-1)\n",
      "get_ipython                  function                      <function get_ipython at 0x7f2328152af0>\n",
      "getsizeof                    builtin_function_or_method    <built-in function getsizeof>\n",
      "json                         module                        <module 'json' from '/hom<...>hon3.8/json/__init__.py'>\n",
      "np                           module                        <module 'numpy' from '/ho<...>kages/numpy/__init__.py'>\n",
      "pickle                       module                        <module 'pickle' from '/h<...>lib/python3.8/pickle.py'>\n",
      "var_dic_list                 function                      <function var_dic_list at 0x7f22ff891940>\n",
      "y                            Series                        0          Other_Activity<...>h: 3459588, dtype: object\n"
     ]
    }
   ],
   "source": [
    "%whos"
   ]
  },
  {
   "cell_type": "code",
   "execution_count": 8,
   "metadata": {},
   "outputs": [],
   "source": [
    "del X\n",
    "del y"
   ]
  },
  {
   "cell_type": "code",
   "execution_count": 9,
   "metadata": {},
   "outputs": [
    {
     "name": "stdout",
     "output_type": "stream",
     "text": [
      "/home/dyllanjr/Documents/Classification-M2/notebooks/models\n"
     ]
    }
   ],
   "source": [
    "%cd /home/dyllanjr/Documents/Classification-M2/notebooks/models/"
   ]
  },
  {
   "cell_type": "code",
   "execution_count": 10,
   "metadata": {},
   "outputs": [
    {
     "name": "stdout",
     "output_type": "stream",
     "text": [
      "'GaussianNB().pkl'                  'LogisticRegression().pkl'\r\n",
      "'GradientBoostingClassifier().pkl'   forest_sample_trained.pkl\r\n",
      "'KNeighborsClassifier().pkl'         random_forest_baseline.joblib\r\n"
     ]
    }
   ],
   "source": [
    "%ls"
   ]
  },
  {
   "cell_type": "code",
   "execution_count": 11,
   "metadata": {},
   "outputs": [],
   "source": [
    "pickle.dump(forest, open('forest_sample_trained.pkl', 'wb'))"
   ]
  },
  {
   "cell_type": "code",
   "execution_count": 12,
   "metadata": {},
   "outputs": [
    {
     "name": "stdout",
     "output_type": "stream",
     "text": [
      "Variable                     Type                          Data/Info\n",
      "--------------------------------------------------------------------\n",
      "GradientBoostingClassifier   ABCMeta                       <class 'sklearn.ensemble.<...>dientBoostingClassifier'>\n",
      "NamespaceMagics              MetaHasTraits                 <class 'IPython.core.magi<...>mespace.NamespaceMagics'>\n",
      "RandomForestClassifier       ABCMeta                       <class 'sklearn.ensemble.<...>.RandomForestClassifier'>\n",
      "forest                       RandomForestClassifier        RandomForestClassifier(n_jobs=-1)\n",
      "get_ipython                  function                      <function get_ipython at 0x7f2328152af0>\n",
      "getsizeof                    builtin_function_or_method    <built-in function getsizeof>\n",
      "json                         module                        <module 'json' from '/hom<...>hon3.8/json/__init__.py'>\n",
      "np                           module                        <module 'numpy' from '/ho<...>kages/numpy/__init__.py'>\n",
      "pickle                       module                        <module 'pickle' from '/h<...>lib/python3.8/pickle.py'>\n",
      "var_dic_list                 function                      <function var_dic_list at 0x7f22ff891940>\n"
     ]
    }
   ],
   "source": [
    "%whos"
   ]
  },
  {
   "cell_type": "code",
   "execution_count": 14,
   "metadata": {},
   "outputs": [
    {
     "name": "stdout",
     "output_type": "stream",
     "text": [
      "Variable          Type                          Data/Info\n",
      "---------------------------------------------------------\n",
      "NamespaceMagics   MetaHasTraits                 <class 'IPython.core.magi<...>mespace.NamespaceMagics'>\n",
      "get_ipython       function                      <function get_ipython at 0x7f2328152af0>\n",
      "getsizeof         builtin_function_or_method    <built-in function getsizeof>\n",
      "json              module                        <module 'json' from '/hom<...>hon3.8/json/__init__.py'>\n",
      "np                module                        <module 'numpy' from '/ho<...>kages/numpy/__init__.py'>\n",
      "var_dic_list      function                      <function var_dic_list at 0x7f22b4c87700>\n"
     ]
    }
   ],
   "source": [
    "%whos"
   ]
  },
  {
   "cell_type": "code",
   "execution_count": null,
   "metadata": {},
   "outputs": [],
   "source": [
    "# %cd /home/dyllanjr/Documents/Classification-M2/data/processed\n",
    "# grad = GradientBoostingClassifier()\n",
    "# data = pickle.load(open(\"sampled_house_data_first_100k.pkl\", 'rb'))\n",
    "# X = data[0]\n",
    "# y = data[1]\n",
    "# del data\n",
    "# grad.fit(X, y)\n",
    "# del X\n",
    "# del y\n",
    "# %cd /home/dyllanjr/Documents/Classification-M2/notebooks/models/\n",
    "# pickle.dump(grad, open('gradient_boost_sample_trained.pkl', 'wb'))"
   ]
  },
  {
   "cell_type": "code",
   "execution_count": 16,
   "metadata": {},
   "outputs": [],
   "source": [
    "def run_model(model):\n",
    "    %cd /home/dyllanjr/Documents/Classification-M2/data/processed\n",
    "    data = pickle.load(open(\"sampled_house_data_first_100k.pkl\", 'rb'))\n",
    "    X = data[0].sample(50000)\n",
    "    y = data[1].iloc[X.index]\n",
    "    del data\n",
    "    model.fit(X, y)\n",
    "    del X\n",
    "    del y\n",
    "    %cd /home/dyllanjr/Documents/Classification-M2/notebooks/models/\n",
    "    pickle.dump(grad, open('{}.pkl'.format(model), 'wb'))\n",
    "    del model"
   ]
  },
  {
   "cell_type": "code",
   "execution_count": 17,
   "metadata": {},
   "outputs": [],
   "source": [
    "from sklearn.linear_model import LogisticRegression\n",
    "from sklearn.neighbors import KNeighborsClassifier\n",
    "from sklearn.naive_bayes import GaussianNB"
   ]
  },
  {
   "cell_type": "code",
   "execution_count": 18,
   "metadata": {},
   "outputs": [
    {
     "name": "stdout",
     "output_type": "stream",
     "text": [
      "/home/dyllanjr/Documents/Classification-M2/data/processed\n",
      "/home/dyllanjr/Documents/Classification-M2/notebooks/models\n",
      "/home/dyllanjr/Documents/Classification-M2/data/processed\n"
     ]
    },
    {
     "name": "stderr",
     "output_type": "stream",
     "text": [
      "/home/dyllanjr/anaconda3/envs/metis/lib/python3.8/site-packages/sklearn/linear_model/_logistic.py:762: ConvergenceWarning: lbfgs failed to converge (status=1):\n",
      "STOP: TOTAL NO. of ITERATIONS REACHED LIMIT.\n",
      "\n",
      "Increase the number of iterations (max_iter) or scale the data as shown in:\n",
      "    https://scikit-learn.org/stable/modules/preprocessing.html\n",
      "Please also refer to the documentation for alternative solver options:\n",
      "    https://scikit-learn.org/stable/modules/linear_model.html#logistic-regression\n",
      "  n_iter_i = _check_optimize_result(\n"
     ]
    },
    {
     "name": "stdout",
     "output_type": "stream",
     "text": [
      "/home/dyllanjr/Documents/Classification-M2/notebooks/models\n",
      "/home/dyllanjr/Documents/Classification-M2/data/processed\n",
      "/home/dyllanjr/Documents/Classification-M2/notebooks/models\n",
      "/home/dyllanjr/Documents/Classification-M2/data/processed\n",
      "/home/dyllanjr/Documents/Classification-M2/notebooks/models\n"
     ]
    }
   ],
   "source": [
    "grad = GradientBoostingClassifier()\n",
    "logreg = LogisticRegression()\n",
    "knn = KNeighborsClassifier()\n",
    "naive = GaussianNB()\n",
    "models = [grad, logreg, knn, naive]\n",
    "for model in models:\n",
    "    run_model(model)"
   ]
  },
  {
   "cell_type": "code",
   "execution_count": null,
   "metadata": {},
   "outputs": [],
   "source": [
    "#due to the strong independence of the columns assumption m ade by naive bayes, I won't spend more effort trying to\n",
    "#model with it on this particular dataset."
   ]
  },
  {
   "cell_type": "code",
   "execution_count": null,
   "metadata": {},
   "outputs": [],
   "source": []
  },
  {
   "cell_type": "code",
   "execution_count": null,
   "metadata": {},
   "outputs": [],
   "source": []
  },
  {
   "cell_type": "code",
   "execution_count": null,
   "metadata": {},
   "outputs": [],
   "source": []
  }
 ],
 "metadata": {
  "kernelspec": {
   "display_name": "Python [conda env:metis] *",
   "language": "python",
   "name": "conda-env-metis-py"
  },
  "language_info": {
   "codemirror_mode": {
    "name": "ipython",
    "version": 3
   },
   "file_extension": ".py",
   "mimetype": "text/x-python",
   "name": "python",
   "nbconvert_exporter": "python",
   "pygments_lexer": "ipython3",
   "version": "3.8.3"
  },
  "varInspector": {
   "cols": {
    "lenName": 16,
    "lenType": 16,
    "lenVar": 40
   },
   "kernels_config": {
    "python": {
     "delete_cmd_postfix": "",
     "delete_cmd_prefix": "del ",
     "library": "var_list.py",
     "varRefreshCmd": "print(var_dic_list())"
    },
    "r": {
     "delete_cmd_postfix": ") ",
     "delete_cmd_prefix": "rm(",
     "library": "var_list.r",
     "varRefreshCmd": "cat(var_dic_list()) "
    }
   },
   "types_to_exclude": [
    "module",
    "function",
    "builtin_function_or_method",
    "instance",
    "_Feature"
   ],
   "window_display": false
  }
 },
 "nbformat": 4,
 "nbformat_minor": 4
}
