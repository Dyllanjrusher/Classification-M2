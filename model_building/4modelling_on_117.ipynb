{
 "cells": [
  {
   "cell_type": "code",
   "execution_count": 1,
   "metadata": {},
   "outputs": [],
   "source": [
    "import pandas as pd\n",
    "from sklearn.ensemble import RandomForestClassifier, AdaBoostClassifier, GradientBoostingClassifier\n",
    "from sklearn.model_selection import train_test_split, GridSearchCV\n",
    "import numpy as np"
   ]
  },
  {
   "cell_type": "markdown",
   "metadata": {},
   "source": [
    "I naively tried to train these models using 3 different house sensor datasets, but that was over 2 million rows, so instead I'll train on just one dataset and see if it generalizes well to others."
   ]
  },
  {
   "cell_type": "code",
   "execution_count": 2,
   "metadata": {},
   "outputs": [
    {
     "name": "stdout",
     "output_type": "stream",
     "text": [
      "/home/dyllanjr/Documents/Classification-M2/data/processed\n"
     ]
    }
   ],
   "source": [
    "%cd /home/dyllanjr/Documents/Classification-M2/data/processed"
   ]
  },
  {
   "cell_type": "code",
   "execution_count": 3,
   "metadata": {},
   "outputs": [],
   "source": [
    "columns = ['lastSensorEventHours', 'lastSensorEventSeconds',\n",
    "       'lastSensorDayOfWeek', 'windowDuration', 'timeSinceLastSensorEvent',\n",
    "       'prevDominantSensor1', 'prevDominantSensor2', 'lastSensorID',\n",
    "       'lastSensorLocation', 'lastMotionLocation', 'complexity',\n",
    "       'activityChange', 'areaTransitions', 'numDistinctSensors',\n",
    "       'sensorCount-Bathroom', 'sensorCount-Bedroom', 'sensorCount-Chair',\n",
    "       'sensorCount-DiningRoom', 'sensorCount-Hall', 'sensorCount-Ignore',\n",
    "       'sensorCount-Kitchen', 'sensorCount-LivingRoom', 'sensorCount-Office',\n",
    "       'sensorCount-OutsideDoor', 'sensorCount-WorkArea',\n",
    "       'sensorElTime-Bathroom', 'sensorElTime-Bedroom', 'sensorElTime-Chair',\n",
    "       'sensorElTime-DiningRoom', 'sensorElTime-Hall', 'sensorElTime-Ignore',\n",
    "       'sensorElTime-Kitchen', 'sensorElTime-LivingRoom',\n",
    "       'sensorElTime-Office', 'sensorElTime-OutsideDoor',\n",
    "       'sensorElTime-WorkArea']"
   ]
  },
  {
   "cell_type": "code",
   "execution_count": 5,
   "metadata": {},
   "outputs": [
    {
     "name": "stderr",
     "output_type": "stream",
     "text": [
      "/home/dyllanjr/anaconda3/envs/metis/lib/python3.8/site-packages/IPython/core/interactiveshell.py:3071: DtypeWarning: Columns (1,2,3,4,5,6,7,8,9,10,11,12,13,14,15,16,17,18,19,20,21,22,23,24,25,26,27,28,29,30,31,32,33,34,35,36) have mixed types.Specify dtype option on import or set low_memory=False.\n",
      "  has_raised = await self.run_ast_nodes(code_ast.body, cell_name,\n"
     ]
    }
   ],
   "source": [
    "train_df = pd.read_csv('csh117.csv')"
   ]
  },
  {
   "cell_type": "code",
   "execution_count": 6,
   "metadata": {},
   "outputs": [],
   "source": [
    "train_df = train_df[train_df.lastSensorEventHours != 'lastSensorEventHours']"
   ]
  },
  {
   "cell_type": "code",
   "execution_count": 7,
   "metadata": {},
   "outputs": [],
   "source": [
    "X_train, y_train = train_df[columns], train_df.reduced_activity"
   ]
  },
  {
   "cell_type": "code",
   "execution_count": 9,
   "metadata": {},
   "outputs": [],
   "source": [
    "forest = RandomForestClassifier()"
   ]
  },
  {
   "cell_type": "code",
   "execution_count": 10,
   "metadata": {},
   "outputs": [
    {
     "data": {
      "text/plain": [
       "RandomForestClassifier()"
      ]
     },
     "execution_count": 10,
     "metadata": {},
     "output_type": "execute_result"
    }
   ],
   "source": [
    "forest.fit(X_train, y_train)"
   ]
  },
  {
   "cell_type": "code",
   "execution_count": 11,
   "metadata": {},
   "outputs": [],
   "source": [
    "import pickle"
   ]
  },
  {
   "cell_type": "code",
   "execution_count": 18,
   "metadata": {},
   "outputs": [
    {
     "name": "stdout",
     "output_type": "stream",
     "text": [
      "/home/dyllanjr/Documents/Classification-M2/models\n"
     ]
    }
   ],
   "source": [
    "%cd /home/dyllanjr/Documents/Classification-M2/notebooks/models"
   ]
  },
  {
   "cell_type": "code",
   "execution_count": 14,
   "metadata": {},
   "outputs": [],
   "source": [
    "pickle.dump(forest, open('forest_117_trained.pkl', 'wb'))"
   ]
  },
  {
   "cell_type": "code",
   "execution_count": 15,
   "metadata": {},
   "outputs": [],
   "source": [
    "grad = GradientBoostingClassifier()"
   ]
  },
  {
   "cell_type": "code",
   "execution_count": 17,
   "metadata": {},
   "outputs": [],
   "source": [
    "# grad.fit(X_train, y_train)\n",
    "#This is taking way too long, if I have time, I'll try to put this into gcloud ml engine"
   ]
  },
  {
   "cell_type": "code",
   "execution_count": null,
   "metadata": {},
   "outputs": [],
   "source": []
  },
  {
   "cell_type": "code",
   "execution_count": null,
   "metadata": {},
   "outputs": [],
   "source": []
  }
 ],
 "metadata": {
  "kernelspec": {
   "display_name": "Python [conda env:metis] *",
   "language": "python",
   "name": "conda-env-metis-py"
  },
  "language_info": {
   "codemirror_mode": {
    "name": "ipython",
    "version": 3
   },
   "file_extension": ".py",
   "mimetype": "text/x-python",
   "name": "python",
   "nbconvert_exporter": "python",
   "pygments_lexer": "ipython3",
   "version": "3.8.3"
  }
 },
 "nbformat": 4,
 "nbformat_minor": 4
}
