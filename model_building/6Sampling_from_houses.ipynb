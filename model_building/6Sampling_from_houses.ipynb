{
 "cells": [
  {
   "cell_type": "code",
   "execution_count": 2,
   "metadata": {},
   "outputs": [
    {
     "name": "stdout",
     "output_type": "stream",
     "text": [
      "/home/dyllanjr/Documents/Classification-M2/notebooks\n"
     ]
    }
   ],
   "source": [
    "%cd /home/dyllanjr/Documents/Classification-M2/notebooks\n",
    "from pyfuncs import processing\n",
    "import numpy as np\n",
    "import pandas as pd"
   ]
  },
  {
   "cell_type": "code",
   "execution_count": 2,
   "metadata": {},
   "outputs": [],
   "source": [
    "def select_random_rows(n_rows, X, y):\n",
    "    '''Returns n_rows of randomly sampled X, y and the row index'''\n",
    "    row_ixs = np.random.randint(0, X.shape[0], n_rows)\n",
    "    return X.iloc[row_ixs], y.iloc[row_ixs], row_ixs"
   ]
  },
  {
   "cell_type": "code",
   "execution_count": 3,
   "metadata": {},
   "outputs": [],
   "source": [
    "def sample_from_all_house(n_rows_per_df):\n",
    "    csvs = np.arange(101, 131)\n",
    "    #unsampled csh's are 101,120,123,113\n",
    "    del_csvs = np.array([124, 127, 130, 101,120,123,113])\n",
    "    csvs = np.setdiff1d(csvs, del_csvs)\n",
    "    sample_ix_dict = {}\n",
    "    X_samps, y_samps = pd.DataFrame(), pd.Series()\n",
    "    for csv in csvs:\n",
    "        X, y =  processing.load_house(csv)\n",
    "        X_samp, y_samp, row_ix_samp = select_random_rows(n_rows_per_df, X, y)\n",
    "        del X\n",
    "        del y\n",
    "        X_samps = pd.concat([X_samps, X_samp])\n",
    "        y_samps = pd.concat([y_samps, y_samp])\n",
    "        del X_samp\n",
    "        del y_samp\n",
    "        sample_ix_dict[csv] = row_ix_samp\n",
    "        del row_ix_samp\n",
    "    return X_samps, y_samps, sample_ix_dict"
   ]
  },
  {
   "cell_type": "code",
   "execution_count": 4,
   "metadata": {},
   "outputs": [
    {
     "name": "stderr",
     "output_type": "stream",
     "text": [
      "<ipython-input-3-415b387d6d00>:7: DeprecationWarning: The default dtype for empty Series will be 'object' instead of 'float64' in a future version. Specify a dtype explicitly to silence this warning.\n",
      "  X_samps, y_samps = pd.DataFrame(), pd.Series()\n"
     ]
    }
   ],
   "source": [
    "testX, testy, ix_dict = sample_from_all_house(100000)"
   ]
  },
  {
   "cell_type": "code",
   "execution_count": 37,
   "metadata": {},
   "outputs": [],
   "source": [
    "columns = ['lastSensorEventHours', 'lastSensorEventSeconds',\n",
    "       'lastSensorDayOfWeek', 'windowDuration', 'timeSinceLastSensorEvent',\n",
    "       'prevDominantSensor1', 'prevDominantSensor2', 'lastSensorID',\n",
    "       'lastSensorLocation', 'lastMotionLocation', 'complexity',\n",
    "       'activityChange', 'areaTransitions', 'numDistinctSensors',\n",
    "       'sensorCount-Bathroom', 'sensorCount-Bedroom', 'sensorCount-Chair',\n",
    "       'sensorCount-DiningRoom', 'sensorCount-Hall', 'sensorCount-Ignore',\n",
    "       'sensorCount-Kitchen', 'sensorCount-LivingRoom', 'sensorCount-Office',\n",
    "       'sensorCount-OutsideDoor', 'sensorCount-WorkArea',\n",
    "       'sensorElTime-Bathroom', 'sensorElTime-Bedroom', 'sensorElTime-Chair',\n",
    "       'sensorElTime-DiningRoom', 'sensorElTime-Hall', 'sensorElTime-Ignore',\n",
    "       'sensorElTime-Kitchen', 'sensorElTime-LivingRoom',\n",
    "       'sensorElTime-Office', 'sensorElTime-OutsideDoor',\n",
    "       'sensorElTime-WorkArea']"
   ]
  },
  {
   "cell_type": "code",
   "execution_count": 3,
   "metadata": {},
   "outputs": [],
   "source": [
    "import pickle\n"
   ]
  },
  {
   "cell_type": "code",
   "execution_count": 39,
   "metadata": {},
   "outputs": [],
   "source": [
    "data_pickle = [testX, testy, ix_dict]\n",
    "%pwd\n",
    "pickle.dump(data_pickle, open('sampled_house_data.pkl', 'wb'))"
   ]
  },
  {
   "cell_type": "markdown",
   "metadata": {},
   "source": [
    "The problem with randomly sampling with the house datasets is that it allows a form of data leakage because the activity in the row following a previously trained row is likely to be the activity of the previously trained row. Thus having the row directly following a trained row in the test set would be bad practice. Instead I'll portion off the first N rows of each housing set H and then delete M rows after N leaving H - M - N rows left for each house set. Furthermore, I'm interested in generalizing the model to houses it hasn't seen yet, so I'll use houses [101,120,123,113] as completely untouched \"test houses\""
   ]
  },
  {
   "cell_type": "code",
   "execution_count": 2,
   "metadata": {},
   "outputs": [
    {
     "name": "stderr",
     "output_type": "stream",
     "text": [
      "/home/dyllanjr/anaconda3/envs/metis/lib/python3.8/site-packages/IPython/core/interactiveshell.py:3263: DtypeWarning: Columns (3,4,5,6,7,8,9,10,11,12,13,14,15,16,17,18,19,20,21,22,23,24,25,26,27,28,29,30,31,32,33,34,35,36,37,38,39,41) have mixed types.Specify dtype option on import or set low_memory=False.\n",
      "  if (await self.run_code(code, result,  async_=asy)):\n"
     ]
    }
   ],
   "source": [
    "testX, testy = processing.load_house(110)"
   ]
  },
  {
   "cell_type": "code",
   "execution_count": 8,
   "metadata": {},
   "outputs": [
    {
     "data": {
      "text/plain": [
       "(273446, 36)"
      ]
     },
     "execution_count": 8,
     "metadata": {},
     "output_type": "execute_result"
    }
   ],
   "source": [
    "testX.shape"
   ]
  },
  {
   "cell_type": "code",
   "execution_count": 4,
   "metadata": {},
   "outputs": [],
   "source": [
    "def select_first_n_rows(n_rows, X, y):\n",
    "    return X.iloc[0:n_rows], y.iloc[0:n_rows]"
   ]
  },
  {
   "cell_type": "code",
   "execution_count": 9,
   "metadata": {},
   "outputs": [],
   "source": [
    "def no_data_leakage_sample_from_all_houses(n_rows_per_df):\n",
    "    csvs = np.arange(101, 111)\n",
    "    #unsampled csh's are 101, 105, 110\n",
    "    del_csvs = np.array([101, 105, 110])\n",
    "    csvs = np.setdiff1d(csvs, del_csvs)\n",
    "    X_samps, y_samps = pd.DataFrame(), pd.Series()\n",
    "    for csv in csvs:\n",
    "        X, y =  processing.load_house(csv)\n",
    "        X_samp, y_samp = select_first_n_rows(n_rows_per_df, X, y)\n",
    "        del X\n",
    "        del y\n",
    "        X_samps = pd.concat([X_samps, X_samp])\n",
    "        y_samps = pd.concat([y_samps, y_samp])\n",
    "        del X_samp\n",
    "        del y_samp\n",
    "    return X_samps, y_samps"
   ]
  },
  {
   "cell_type": "code",
   "execution_count": 10,
   "metadata": {},
   "outputs": [
    {
     "name": "stderr",
     "output_type": "stream",
     "text": [
      "<ipython-input-9-8d22b6598c1e>:6: DeprecationWarning: The default dtype for empty Series will be 'object' instead of 'float64' in a future version. Specify a dtype explicitly to silence this warning.\n",
      "  X_samps, y_samps = pd.DataFrame(), pd.Series()\n"
     ]
    },
    {
     "name": "stdout",
     "output_type": "stream",
     "text": [
      "/home/dyllanjr/Documents/Classification-M2/notebooks\n"
     ]
    }
   ],
   "source": [
    "trainX, trainy = no_data_leakage_sample_from_all_houses(n_rows_per_df=100000)\n",
    "%cd /home/dyllanjr/Documents/Classification-M2/data/processed/\n",
    "data_pickle = [trainX, trainy]\n",
    "import pickle\n",
    "pickle.dump(data_pickle, open('sampled_house_data_first_100k.pkl', 'wb'))"
   ]
  },
  {
   "cell_type": "code",
   "execution_count": 8,
   "metadata": {},
   "outputs": [
    {
     "name": "stdout",
     "output_type": "stream",
     "text": [
      "/home/dyllanjr/Documents/Classification-M2/data/processed\n"
     ]
    }
   ],
   "source": [
    "%cd /home/dyllanjr/Documents/Classification-M2/data/processed/\n",
    "data = pickle.load(open('sampled_house_data_first_100k.pkl', 'rb'))\n",
    "X = data[0]\n",
    "y = data[1]"
   ]
  },
  {
   "cell_type": "code",
   "execution_count": 9,
   "metadata": {},
   "outputs": [
    {
     "data": {
      "text/plain": [
       "Other_Activity      288299\n",
       "Cook                111052\n",
       "Entertainment        60282\n",
       "Personal_Hygeine     48246\n",
       "Sleep                39150\n",
       "Eat                  38235\n",
       "Clean                36679\n",
       "Work                 31767\n",
       "Toilet               21140\n",
       "Dress                16520\n",
       "Meds                  4683\n",
       "Enter_Home            3947\n",
       "dtype: int64"
      ]
     },
     "execution_count": 9,
     "metadata": {},
     "output_type": "execute_result"
    }
   ],
   "source": [
    "y.value_counts()\n",
    "#I would like to try to oversample to fix the class imbalance with SMOTE"
   ]
  },
  {
   "cell_type": "code",
   "execution_count": 10,
   "metadata": {},
   "outputs": [],
   "source": [
    "from imblearn.over_sampling import SMOTE\n",
    "sm = SMOTE()\n",
    "X_res, y_res = sm.fit_resample(X, y)"
   ]
  },
  {
   "cell_type": "code",
   "execution_count": 12,
   "metadata": {},
   "outputs": [],
   "source": [
    "data_pickle = [X_res, y_res]"
   ]
  },
  {
   "cell_type": "code",
   "execution_count": 13,
   "metadata": {},
   "outputs": [
    {
     "name": "stdout",
     "output_type": "stream",
     "text": [
      "/home/dyllanjr/Documents/Classification-M2/data/processed\n"
     ]
    }
   ],
   "source": [
    "%cd /home/dyllanjr/Documents/Classification-M2/data/processed/\n",
    "pickle.dump(data_pickle, open('oversampled_house_data_first_100k.pkl', 'wb'))"
   ]
  },
  {
   "cell_type": "code",
   "execution_count": null,
   "metadata": {},
   "outputs": [],
   "source": []
  },
  {
   "cell_type": "code",
   "execution_count": null,
   "metadata": {},
   "outputs": [],
   "source": []
  }
 ],
 "metadata": {
  "kernelspec": {
   "display_name": "Python 3",
   "language": "python",
   "name": "python3"
  },
  "language_info": {
   "codemirror_mode": {
    "name": "ipython",
    "version": 3
   },
   "file_extension": ".py",
   "mimetype": "text/x-python",
   "name": "python",
   "nbconvert_exporter": "python",
   "pygments_lexer": "ipython3",
   "version": "3.8.3"
  }
 },
 "nbformat": 4,
 "nbformat_minor": 4
}
